{
 "cells": [
  {
   "cell_type": "markdown",
   "metadata": {},
   "source": [
    "### Functions"
   ]
  },
  {
   "cell_type": "code",
   "execution_count": 249,
   "metadata": {},
   "outputs": [],
   "source": [
    "#Task 1\n",
    "\n",
    "documents = [\n",
    " {'type': 'passport', 'number': '2207 876234', 'name': 'Василий Гупкин'},\n",
    " {'type': 'invoice', 'number': '11-2', 'name': 'Геннадий Покемонов'},\n",
    " {'type': 'insurance', 'number': '10006', 'name': 'Аристарх Павлов'}\n",
    "]\n",
    "\n",
    "directories = {\n",
    " '1': ['2207 876234', '11-2'],\n",
    " '2': ['10006'],\n",
    " '3': []\n",
    "}"
   ]
  },
  {
   "cell_type": "code",
   "execution_count": 63,
   "metadata": {},
   "outputs": [
    {
     "name": "stdout",
     "output_type": "stream",
     "text": [
      "Введите номер документа 11-2\n",
      "Геннадий Покемонов\n"
     ]
    }
   ],
   "source": [
    "#Task 1\n",
    "\n",
    "#Пользователь по команде \"p\" может узнать владельца документа по его номеруp(documents)\n",
    "\n",
    "def find_owner(documents):\n",
    "    number_input = input('Введите номер документа ')\n",
    "    for element in documents:\n",
    "        if list(element.values())[1] == number_input:\n",
    "            result = list(element.values())[2]\n",
    "            return result\n",
    "    return 'Документ не найден в базе'\n",
    "\n",
    "print(find_owner(documents))"
   ]
  },
  {
   "cell_type": "code",
   "execution_count": 64,
   "metadata": {},
   "outputs": [
    {
     "name": "stdout",
     "output_type": "stream",
     "text": [
      "Введите номер документа 11-2\n"
     ]
    },
    {
     "data": {
      "text/plain": [
       "'Документ хранится на полке: 1'"
      ]
     },
     "execution_count": 64,
     "metadata": {},
     "output_type": "execute_result"
    }
   ],
   "source": [
    "#Пользователь по команде \"s\" может по номеру документа узнать на какой полке он хранится\n",
    "\n",
    "def find_shelf(directories): \n",
    "    number_input = input('Введите номер документа ')\n",
    "    for key,item in directories.items():\n",
    "        if number_input in item:\n",
    "            return f'Документ хранится на полке: {key}'\n",
    "    return 'Документ не найден в базе' \n",
    "\n",
    "find_shelf(directories)"
   ]
  },
  {
   "cell_type": "code",
   "execution_count": 250,
   "metadata": {},
   "outputs": [
    {
     "name": "stdout",
     "output_type": "stream",
     "text": [
      "№: 2207 876234, тип: passport, владелец: Василий Гупкин, полка хранения: 1\n",
      "№: 11-2, тип: invoice, владелец: Геннадий Покемонов, полка хранения: 1\n",
      "№: 10006, тип: insurance, владелец: Аристарх Павлов, полка хранения: 2\n"
     ]
    }
   ],
   "source": [
    "#Пользователь по команде \"l\" может увидеть полную информацию по всем документам\n",
    "\n",
    "def find_all_info(documents, directories):\n",
    "\n",
    "    for line in documents:\n",
    "        type_doc = list(line.values())[0]\n",
    "        number = list(line.values())[1]\n",
    "        person = list(line.values())[2]\n",
    "        for key,item in directories.items():\n",
    "            if number in item:\n",
    "                shelf = key\n",
    "        \n",
    "        print(f'№: {number}, тип: {type_doc}, владелец: {person}, полка хранения: {shelf}')\n",
    "\n",
    "find_all_info(documents, directories)     \n"
   ]
  },
  {
   "cell_type": "code",
   "execution_count": 65,
   "metadata": {},
   "outputs": [
    {
     "name": "stdout",
     "output_type": "stream",
     "text": [
      "Введите номер полки3\n"
     ]
    },
    {
     "data": {
      "text/plain": [
       "'Такая полка уже существует. Текущий перечень полок: 1,2,3'"
      ]
     },
     "execution_count": 65,
     "metadata": {},
     "output_type": "execute_result"
    }
   ],
   "source": [
    "#Пользователь по команде \"ads\" может добавить новую полку\n",
    "\n",
    "def add_shelf(directories):\n",
    "    shelf_input = input('Введите номер полки')\n",
    "    current_shelfs = ','.join(directories.keys())\n",
    "    if shelf_input in directories:\n",
    "        return(f'Такая полка уже существует. Текущий перечень полок: {current_shelfs}')\n",
    "    else: \n",
    "        new_directories = directories.setdefault(shelf_input,[])\n",
    "        return (f'Полка добавлена. Текущие перечень полок: {list(directories)}')\n",
    "\n",
    "\n",
    "add_shelf(directories)"
   ]
  },
  {
   "cell_type": "code",
   "execution_count": null,
   "metadata": {},
   "outputs": [],
   "source": [
    "#Пользователь по команде \"ds\" может удалить существующую полку из данных (только если она пустая)\n",
    "\n",
    "def delete_shelf(directories):\n",
    "\n",
    "    current_shelfs = ','.join(directories.keys())\n",
    "    shelf_input = input('Введите номер полки')\n",
    "    if shelf_input not in directories.keys():\n",
    "        return (f'Такой полки не существует. Текущий перечень полок: {list(directories)}')\n",
    "    elif shelf_input in directories and directories.get(shelf_input):\n",
    "            return(f'На полке есть документы, удалите их перед удалением полки. Текущий перечень полок: {list(directories)}')\n",
    "    else:\n",
    "        del(directories[shelf_input])\n",
    "        return(f'Полка удалена. Текущий перечень полок: {list(directories.keys())}')    \n",
    " \n",
    "delete_shelf(directories)     \n",
    "        "
   ]
  },
  {
   "cell_type": "code",
   "execution_count": 18,
   "metadata": {},
   "outputs": [
    {
     "name": "stdout",
     "output_type": "stream",
     "text": [
      "Введите командуads\n",
      "Введите номер полки2\n",
      "Такая полка уже существует. Текущий перечень полок: 1,2,3\n",
      "Введите командуds\n",
      "Введите номер полки2\n",
      "На полке есть документы, удалите их перед удалением полки. Текущий перечень полок: ['1', '2', '3']\n",
      "Введите командуq\n"
     ]
    }
   ],
   "source": [
    "def main():\n",
    "    while True:\n",
    "        user_input = input('Введите команду')\n",
    "        if user_input == 'p':\n",
    "            print(find_owner(documents))\n",
    "        elif  user_input == 's':\n",
    "            print(find_shelf(directories))\n",
    "        elif user_input == 'l':\n",
    "            print(find_all_info(documents, directories))\n",
    "        elif user_input == 'ads':\n",
    "            print(add_shelf(directories))\n",
    "        elif user_input == 'ds':\n",
    "            print(delete_shelf(directories))\n",
    "        elif user_input == 'ad':\n",
    "            print(add_doc(documents, directories))\n",
    "        elif user_input == 'q':\n",
    "            break\n",
    "main()"
   ]
  },
  {
   "cell_type": "code",
   "execution_count": 223,
   "metadata": {},
   "outputs": [
    {
     "name": "stdout",
     "output_type": "stream",
     "text": [
      "Введите номер документа 123\n",
      "Введите тип документа222\n",
      "Введите владельца документа36\n",
      "Введите полку для хранения3\n",
      "Документ добавлен.Текущий список документов:\n",
      "№: 2207 876234, тип: passport, владелец: Василий Гупкин, полка хранения: 1\n",
      "№: 11-2, тип: invoice, владелец: Геннадий Покемонов, полка хранения: 1\n",
      "№: 10006, тип: insurance, владелец: Аристарх Павлов, полка хранения: 2\n",
      "№: 123, тип: 222, владелец: 36, полка хранения: 3\n"
     ]
    }
   ],
   "source": [
    "#Task 2\n",
    "#Пользователь по команде \"ad\" может добавить новый документ в данные\n",
    "\n",
    "def add_doc(documents, directories):\n",
    "    number_input = input('Введите номер документа ')\n",
    "    type_doc = input('Введите тип документа')\n",
    "    person = input('Введите владельца документа')\n",
    "    shelf_input = input('Введите полку для хранения')\n",
    "    if shelf_input not in directories:\n",
    "        print(f'Такой полки не существует. Добавьте полку командой ads. \\n Текущий список документов:')\n",
    "    if shelf_input in directories and shelf_input is None:\n",
    "        documents.append({'type': type_doc,'number': number_input, 'person': person})\n",
    "        directories[shelf_input] = [number_input]\n",
    "    else:\n",
    "        documents.append({'type': type_doc,'number': number_input, 'person': person})\n",
    "        directories[shelf_input].append(number_input)\n",
    "        print('Документ добавлен.Текущий список документов:')\n",
    "    return find_all_info(documents, directories)  \n",
    "                          \n",
    "add_doc(documents, directories)  "
   ]
  },
  {
   "cell_type": "code",
   "execution_count": 244,
   "metadata": {},
   "outputs": [
    {
     "name": "stdout",
     "output_type": "stream",
     "text": [
      "Введите номер документа 123\n",
      "Введите номер документа 123\n"
     ]
    },
    {
     "ename": "KeyError",
     "evalue": "'е'",
     "output_type": "error",
     "traceback": [
      "\u001b[1;31m---------------------------------------------------------------------------\u001b[0m",
      "\u001b[1;31mKeyError\u001b[0m                                  Traceback (most recent call last)",
      "\u001b[1;32m<ipython-input-244-b1078e4b849d>\u001b[0m in \u001b[0;36m<module>\u001b[1;34m\u001b[0m\n\u001b[0;32m     18\u001b[0m         \u001b[1;32mreturn\u001b[0m\u001b[1;33m(\u001b[0m\u001b[0mfind_all_info\u001b[0m\u001b[1;33m(\u001b[0m\u001b[0mdocuments\u001b[0m\u001b[1;33m,\u001b[0m \u001b[0mdirectories\u001b[0m\u001b[1;33m)\u001b[0m\u001b[1;33m)\u001b[0m\u001b[1;33m\u001b[0m\u001b[1;33m\u001b[0m\u001b[0m\n\u001b[0;32m     19\u001b[0m \u001b[1;33m\u001b[0m\u001b[0m\n\u001b[1;32m---> 20\u001b[1;33m \u001b[0mdel_doc\u001b[0m\u001b[1;33m(\u001b[0m\u001b[0mdocuments\u001b[0m\u001b[1;33m,\u001b[0m \u001b[0mdirectories\u001b[0m\u001b[1;33m)\u001b[0m\u001b[1;33m\u001b[0m\u001b[1;33m\u001b[0m\u001b[0m\n\u001b[0m",
      "\u001b[1;32m<ipython-input-244-b1078e4b849d>\u001b[0m in \u001b[0;36mdel_doc\u001b[1;34m(documents, directories)\u001b[0m\n\u001b[0;32m      9\u001b[0m         \u001b[0mdocuments\u001b[0m\u001b[1;33m.\u001b[0m\u001b[0mremove\u001b[0m\u001b[1;33m(\u001b[0m\u001b[0melement\u001b[0m\u001b[1;33m)\u001b[0m\u001b[1;33m\u001b[0m\u001b[1;33m\u001b[0m\u001b[0m\n\u001b[0;32m     10\u001b[0m         \u001b[0mshelf\u001b[0m \u001b[1;33m=\u001b[0m \u001b[0mfind_shelf\u001b[0m\u001b[1;33m(\u001b[0m\u001b[0mdirectories\u001b[0m\u001b[1;33m)\u001b[0m\u001b[1;33m[\u001b[0m\u001b[1;33m-\u001b[0m\u001b[1;36m1\u001b[0m\u001b[1;33m]\u001b[0m\u001b[1;33m\u001b[0m\u001b[1;33m\u001b[0m\u001b[0m\n\u001b[1;32m---> 11\u001b[1;33m         \u001b[0mdirectories\u001b[0m\u001b[1;33m[\u001b[0m\u001b[0mshelf\u001b[0m\u001b[1;33m]\u001b[0m\u001b[1;33m.\u001b[0m\u001b[0mremove\u001b[0m\u001b[1;33m(\u001b[0m\u001b[0mnumber_input\u001b[0m\u001b[1;33m)\u001b[0m\u001b[1;33m\u001b[0m\u001b[1;33m\u001b[0m\u001b[0m\n\u001b[0m\u001b[0;32m     12\u001b[0m         \u001b[0mprint\u001b[0m\u001b[1;33m(\u001b[0m\u001b[1;34m'Документ удален.'\u001b[0m\u001b[1;33m)\u001b[0m\u001b[1;33m\u001b[0m\u001b[1;33m\u001b[0m\u001b[0m\n\u001b[0;32m     13\u001b[0m         \u001b[0mprint\u001b[0m \u001b[1;33m(\u001b[0m\u001b[1;34m'Текущий список документов:'\u001b[0m\u001b[1;33m)\u001b[0m\u001b[1;33m\u001b[0m\u001b[1;33m\u001b[0m\u001b[0m\n",
      "\u001b[1;31mKeyError\u001b[0m: 'е'"
     ]
    }
   ],
   "source": [
    "#Пользователь по команде \"d\" может удалить документ из данных\n",
    "def del_doc(documents, directories):\n",
    "\n",
    "    number_input = input('Введите номер документа ')    \n",
    "    for element in documents:\n",
    "        if number_input == element.get('number'):\n",
    "            result = element\n",
    "            break\n",
    "        documents.remove(element)\n",
    "        shelf = find_shelf(directories)[-1]\n",
    "        directories[shelf].remove(number_input)     \n",
    "        print('Документ удален.')\n",
    "        print ('Текущий список документов:')      \n",
    "        print (find_all_info(documents, directories)) \n",
    "    else:\n",
    "        print('Документ не найден в базе.')\n",
    "        print('Текущий список документов:')\n",
    "        return(find_all_info(documents, directories))  \n",
    "\n",
    "del_doc(documents, directories)"
   ]
  },
  {
   "cell_type": "code",
   "execution_count": 246,
   "metadata": {},
   "outputs": [
    {
     "name": "stdout",
     "output_type": "stream",
     "text": [
      "Введите номер документа 11-2\n"
     ]
    },
    {
     "data": {
      "text/plain": [
       "'1'"
      ]
     },
     "execution_count": 246,
     "metadata": {},
     "output_type": "execute_result"
    }
   ],
   "source": [
    "find_shelf(directories)[-1]"
   ]
  }
 ],
 "metadata": {
  "kernelspec": {
   "display_name": "Python 3",
   "language": "python",
   "name": "python3"
  },
  "language_info": {
   "codemirror_mode": {
    "name": "ipython",
    "version": 3
   },
   "file_extension": ".py",
   "mimetype": "text/x-python",
   "name": "python",
   "nbconvert_exporter": "python",
   "pygments_lexer": "ipython3",
   "version": "3.8.3"
  }
 },
 "nbformat": 4,
 "nbformat_minor": 4
}
