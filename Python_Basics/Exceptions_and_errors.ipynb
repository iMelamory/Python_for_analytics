{
 "cells": [
  {
   "cell_type": "markdown",
   "metadata": {},
   "source": [
    "## Исключения и обработка ошибок"
   ]
  },
  {
   "cell_type": "code",
   "execution_count": 2,
   "metadata": {},
   "outputs": [],
   "source": [
    "#Task 1\n",
    "\n",
    "from datetime import datetime"
   ]
  },
  {
   "cell_type": "code",
   "execution_count": 24,
   "metadata": {},
   "outputs": [
    {
     "name": "stdout",
     "output_type": "stream",
     "text": [
      "\n",
      " 2002-10-02 00:00:00 \n",
      " 2013-10-11 00:00:00 \n",
      " 1977-08-18 00:00:00\n"
     ]
    }
   ],
   "source": [
    "The_Moscow_Times_date  = 'Wednesday, October 2, 2002'\n",
    "date_MT = datetime.strptime(The_Moscow_Times_date, '%A, %B %d, %Y')\n",
    "\n",
    "The_Guardian_date = 'Friday, 11.10.13'\n",
    "date_G = datetime.strptime(The_Guardian_date, '%A, %d.%m.%y')\n",
    "\n",
    "Daily_News_date = 'Thursday, 18 August 1977'\n",
    "date_DN = datetime.strptime(Daily_News_date, '%A, %d %B %Y')\n",
    "\n",
    "print('\\n', date_MT, '\\n', date_G,'\\n', date_DN)"
   ]
  },
  {
   "cell_type": "code",
   "execution_count": 37,
   "metadata": {},
   "outputs": [
    {
     "name": "stdout",
     "output_type": "stream",
     "text": [
      "2018-04-02 True\n",
      "2018-02-29 False\n",
      "2018-19-02 False\n"
     ]
    }
   ],
   "source": [
    "#Task 2\n",
    "stream = ['2018-04-02', '2018-02-29', '2018-19-02']\n",
    "\n",
    "def date_check(stream):\n",
    "    for date in stream:\n",
    "        try:\n",
    "            if datetime.strptime(date, '%Y-%m-%d'):\n",
    "                print(f'{date} {True}')\n",
    "        except: \n",
    "            print(f'{date} {False}')\n",
    "date_check(stream)  "
   ]
  },
  {
   "cell_type": "code",
   "execution_count": 70,
   "metadata": {},
   "outputs": [
    {
     "name": "stdout",
     "output_type": "stream",
     "text": [
      "2020-01-15\n",
      "2020-01-16\n",
      "2020-01-17\n",
      "2020-01-18\n",
      "2020-01-19\n",
      "2020-01-20\n"
     ]
    }
   ],
   "source": [
    "#Task 3\n",
    "\n",
    "start_date = '2020-01-15'\n",
    "end_date = '2020-01-20'\n",
    "\n",
    "def data_range(start_date, end_date):\n",
    "    try:\n",
    "        start_date_dt = datetime.strptime(start_date, '%Y-%m-%d')\n",
    "        end_date_dt = datetime.strptime(end_date, '%Y-%m-%d')\n",
    "        current_dt = start_date_dt\n",
    "    \n",
    "        if start_date_dt <= end_date_dt:\n",
    "            while current_dt <= end_date_dt:\n",
    "                print(datetime.strftime(current_dt, '%Y-%m-%d'))\n",
    "                current_dt += timedelta(days=1)\n",
    "    except:\n",
    "        print([])\n",
    "data_range(start_date, end_date)      "
   ]
  },
  {
   "cell_type": "code",
   "execution_count": 90,
   "metadata": {},
   "outputs": [
    {
     "data": {
      "text/plain": [
       "'A101'"
      ]
     },
     "execution_count": 90,
     "metadata": {},
     "output_type": "execute_result"
    }
   ],
   "source": [
    "#Task 4\n",
    "\n",
    "DEFAULT_USER_COUNT = 3\n",
    "default_list=['A100', 'A101', 'A102']\n",
    "def delete_and_return_last_user(default_list):\n",
    "    \"\"\"\"\n",
    "    Удаляет из списка default_list последнего пользователя\n",
    "    и возвращает ID нового последнего пользователя.\n",
    "    \"\"\"\n",
    "    element_to_delete = default_list[-1]\n",
    "    default_list.remove(element_to_delete)\n",
    "    return default_list[DEFAULT_USER_COUNT-2]\n",
    "\n",
    "delete_and_return_last_user(default_list)\n",
    "\n",
    "\n",
    "# 1.Ошибка возникает, т.к. при первом удалении список укоротился, затем мы опять удалили значние и теперь там нет значения DEFAULT_USER_COUNT-2, т.к. список состоит из 1го элемента,а эта команда выводит второй элемент.\n",
    "# 2.Соответственно, первый раз количество элементов в списке позволяет сначала удалить элемент, а затем вернуть ID последнего пользователя. "
   ]
  },
  {
   "cell_type": "code",
   "execution_count": 41,
   "metadata": {},
   "outputs": [],
   "source": [
    "from datetime import timedelta"
   ]
  }
 ],
 "metadata": {
  "kernelspec": {
   "display_name": "Python 3",
   "language": "python",
   "name": "python3"
  },
  "language_info": {
   "codemirror_mode": {
    "name": "ipython",
    "version": 3
   },
   "file_extension": ".py",
   "mimetype": "text/x-python",
   "name": "python",
   "nbconvert_exporter": "python",
   "pygments_lexer": "ipython3",
   "version": "3.8.3"
  }
 },
 "nbformat": 4,
 "nbformat_minor": 4
}
