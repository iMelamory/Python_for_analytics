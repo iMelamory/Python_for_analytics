{
 "cells": [
  {
   "cell_type": "code",
   "execution_count": 115,
   "metadata": {},
   "outputs": [],
   "source": [
    "#Task 1\n",
    "\n",
    "i = 0\n",
    "purchases = {}\n",
    "with open('purchase_log.txt', 'r', encoding = 'utf-8') as purchase_file:\n",
    "    for line in purchase_file:\n",
    "        line = line.strip()\n",
    "        dict_ = json.loads(line)\n",
    "        purchases.setdefault(dict_['user_id'], [])\n",
    "        purchases[dict_['user_id']].append(dict_['category'])\n",
    "#         i += 1\n",
    "#         if i > 5:\n",
    "#             break\n",
    "    del(purchases['user_id']) \n",
    "    #print(purchases)\n",
    "       "
   ]
  },
  {
   "cell_type": "code",
   "execution_count": 4,
   "metadata": {},
   "outputs": [],
   "source": [
    "import json"
   ]
  },
  {
   "cell_type": "code",
   "execution_count": 116,
   "metadata": {},
   "outputs": [],
   "source": [
    "#Task 2\n",
    "i = 0\n",
    "with open('visit_log.csv', 'r', encoding = 'utf-8') as visit_log_file:\n",
    "        with open('funnel.csv', 'w', encoding = 'utf-8') as funnel2write:\n",
    "            headers = visit_log_file.readline().strip().split(',')\n",
    "            headers.append('category')\n",
    "            headers = ', '.join(headers)\n",
    "            funnel2write.write(f'{headers}\\n')\n",
    "            \n",
    "            for visit_line in visit_log_file:\n",
    "                visit_line_columns = visit_line.strip().split(',')\n",
    "                if visit_line_columns[0] in purchases.keys():\n",
    "                    \n",
    "                    visit_line_columns.append(', '.join(purchases[visit_line_columns[0]]))\n",
    "                    visit_line_columns = ', '.join(visit_line_columns)\n",
    "                    funnel2write.write(f'{visit_line_columns}\\n')\n",
    "                    \n",
    "                "
   ]
  }
 ],
 "metadata": {
  "kernelspec": {
   "display_name": "Python 3",
   "language": "python",
   "name": "python3"
  },
  "language_info": {
   "codemirror_mode": {
    "name": "ipython",
    "version": 3
   },
   "file_extension": ".py",
   "mimetype": "text/x-python",
   "name": "python",
   "nbconvert_exporter": "python",
   "pygments_lexer": "ipython3",
   "version": "3.8.3"
  }
 },
 "nbformat": 4,
 "nbformat_minor": 4
}
