{
 "cells": [
  {
   "cell_type": "markdown",
   "metadata": {},
   "source": [
    "Python Basics Tasks"
   ]
  },
  {
   "cell_type": "code",
   "execution_count": 7,
   "metadata": {},
   "outputs": [
    {
     "name": "stdout",
     "output_type": "stream",
     "text": [
      "Насколько проще было бы писать программы, если бы не заказчики\n",
      "Насколько проще было бы писать программы, если бы не заказчики\n",
      "Фразы равной длины\n"
     ]
    }
   ],
   "source": [
    "#Task 1\n",
    "phrase_1 = str(input())\n",
    "phrase_2 = str(input())\n",
    "\n",
    "if len(phrase_1) > len(phrase_2):\n",
    "    print ('Фраза 1 длиннее фразы 2')\n",
    "elif len(phrase_1) < len(phrase_2):\n",
    "    print ('Фраза 2 длиннее фразы 1')\n",
    "else:\n",
    "    print ('Фразы равной длины')\n"
   ]
  },
  {
   "cell_type": "code",
   "execution_count": 15,
   "metadata": {},
   "outputs": [
    {
     "name": "stdout",
     "output_type": "stream",
     "text": [
      "Введите год 1999\n",
      "Обычный год\n"
     ]
    }
   ],
   "source": [
    "#Task 2\n",
    "a = int(input(\"Введите год \"))\n",
    "if a % 4 == 0 or a % 100 == 0 or a % 400 == 0:\n",
    "    print ('Високосный')\n",
    "else:\n",
    "    print ('Обычный год')\n",
    "    "
   ]
  },
  {
   "cell_type": "code",
   "execution_count": 30,
   "metadata": {},
   "outputs": [
    {
     "name": "stdout",
     "output_type": "stream",
     "text": [
      "Введите день рождения 13\n",
      "Введите месяц рождения январь\n",
      "Ваш знак зодиака: Козерог\n"
     ]
    }
   ],
   "source": [
    "#Task 3\n",
    "date_of_birth = int(input('Введите день рождения '))\n",
    "Month_of_birth = str(input('Введите месяц рождения '))\n",
    "\n",
    "if (31 >= date_of_birth >= 21 and Month_of_birth == 'март') or (20 >= date_of_birth >= 1 and Month_of_birth == 'апрель'):\n",
    "    print ('Ваш знак зодиака: Овен')\n",
    "elif (30 >= date_of_birth >= 21 and Month_of_birth == 'апрель') or (21 >= date_of_birth >= 1 and Month_of_birth == 'май'):\n",
    "    print ('Ваш знак зодиака: Телец')\n",
    "elif (31 >= date_of_birth >= 22 and Month_of_birth == 'май') or (21 >= date_of_birth >= 1 and Month_of_birth == 'июнь'):\n",
    "    print ('Ваш знак зодиака: Близнецы')    \n",
    "elif (30 >= date_of_birth >= 22 and Month_of_birth == 'июнь') or (22 >= date_of_birth >= 1 and Month_of_birth == 'июль'):\n",
    "    print ('Ваш знак зодиака: Рак')   \n",
    "elif (31 >= date_of_birth >= 23 and Month_of_birth == 'июль') or (21 >= date_of_birth >= 1 and Month_of_birth == 'август'):\n",
    "    print ('Ваш знак зодиака: Лев')   \n",
    "elif (31 >= date_of_birth >= 22 and Month_of_birth == 'август') or (23 >= date_of_birth >= 1 and Month_of_birth == 'сентябрь'):\n",
    "    print ('Ваш знак зодиака: Дева')  \n",
    "elif (30 >= date_of_birth >= 24 and Month_of_birth == 'сентябрь') or (23 >= date_of_birth >= 1 and Month_of_birth == 'октябрь'):\n",
    "    print ('Ваш знак зодиака: Весы')   \n",
    "elif (31 >= date_of_birth >= 24 and Month_of_birth == 'октябрь') or (22 >= date_of_birth >= 1 and Month_of_birth == 'ноябрь'):\n",
    "    print ('Ваш знак зодиака: Скорпион')   \n",
    "elif (30 >= date_of_birth >= 23 and Month_of_birth == 'ноябрь') or (22 >= date_of_birth >= 1 and Month_of_birth == 'декабрь'):\n",
    "    print ('Ваш знак зодиака: Стрелец')   \n",
    "elif (31 >= date_of_birth >= 23 and Month_of_birth == 'декабрь') or (20 >= date_of_birth >= 1 and Month_of_birth == 'январь'):\n",
    "    print ('Ваш знак зодиака: Козерог')   \n",
    "elif (31 >= date_of_birth >= 21 and Month_of_birth == 'январь') or (19 >= date_of_birth >= 1 and Month_of_birth == 'февраль'):\n",
    "    print ('Ваш знак зодиака: Водолей')   \n",
    "elif (29 >= date_of_birth >= 20 and Month_of_birth == 'февраль') or (20 >= date_of_birth >= 1 and Month_of_birth == 'март'):\n",
    "    print ('Ваш знак зодиака: Рыбы')   "
   ]
  },
  {
   "cell_type": "code",
   "execution_count": 19,
   "metadata": {},
   "outputs": [
    {
     "name": "stdout",
     "output_type": "stream",
     "text": [
      "Ширина 15\n",
      "Длина 15\n",
      "Высота 15\n",
      "Стандартная коробка №3\n"
     ]
    }
   ],
   "source": [
    "#Task 4\n",
    "width = int(input('Ширина '))\n",
    "length = int(input('Длина '))\n",
    "heigh = int(input('Высота '))\n",
    "\n",
    "if width < 15 and heigh < 15 and length < 15:\n",
    "    print ('Коробка №1')\n",
    "elif 50 < width < 15 or 50 < heigh < 15 or 50 < length < 15:\n",
    "    print ('Коробка №2')\n",
    "elif length > 200:\n",
    "    print('Упаковка для лыж')\n",
    "else:\n",
    "    print('Стандартная коробка №3')"
   ]
  },
  {
   "cell_type": "code",
   "execution_count": 37,
   "metadata": {},
   "outputs": [
    {
     "name": "stdout",
     "output_type": "stream",
     "text": [
      "001002\n",
      "Несчастливый\n"
     ]
    }
   ],
   "source": [
    "#Task 5\n",
    "\n",
    "ticket = int(input())\n",
    "ticket_begin = ticket // 1000\n",
    "ticket_end = ticket % 1000\n",
    "if len(str(ticket_begin)) == 3 and len(str(ticket_end)) == 3 and (ticket_begin // 100 + ticket_begin % 100 // 10 + ticket_begin % 10) == (ticket_end // 100 + ticket_end % 100 // 10 + ticket_end % 10):\n",
    "    print('Счастливый')\n",
    "elif len(str(ticket_begin)) == 2 and len(str(ticket_end)) == 3 and (ticket_begin // 10 + ticket_begin % 10) == (ticket_end // 100 + ticket_end % 100 // 10 + ticket_end % 10):\n",
    "    print('Счастливый')\n",
    "elif len(str(ticket_begin)) == 3 and len(str(ticket_end)) == 2 and (ticket_begin // 100 + ticket_begin % 100 // 10 + ticket_begin % 10) == (ticket_end // 10 + ticket_end % 10):\n",
    "    print('Счастливый')\n",
    "elif len(str(ticket_begin)) == 2 and len(str(ticket_end)) == 2 and (ticket_begin // 10 + ticket_begin % 10) == (ticket_end // 10 + ticket_end % 10):\n",
    "    print('Счастливый')\n",
    "elif len(str(ticket_begin)) == 1 and len(str(ticket_end)) == 2 and (ticket_begin // 1) == (ticket_end // 10 + ticket_end % 10):\n",
    "    print('Счастливый')\n",
    "elif len(str(ticket_begin)) == 2 and len(str(ticket_end)) == 1 and (ticket_begin // 10 + ticket_begin % 10) == (ticket_end // 1):\n",
    "    print('Счастливый')\n",
    "elif len(str(ticket_begin)) == 1 and len(str(ticket_end)) == 1 and (ticket_begin // 1) == (ticket_end // 1):\n",
    "    print('Счастливый')\n",
    "else:\n",
    "    print ('Несчастливый')"
   ]
  },
  {
   "cell_type": "code",
   "execution_count": 55,
   "metadata": {},
   "outputs": [
    {
     "name": "stdout",
     "output_type": "stream",
     "text": [
      "треугольник\n",
      "Введите длину стороны треугольника 12\n",
      "Введите длину стороны треугольника 22\n",
      "Введите длину стороны треугольника 33\n",
      "1.984313483298443\n"
     ]
    }
   ],
   "source": [
    "#Task 6\n",
    "import math\n",
    "shape = input()\n",
    "\n",
    "if shape == \"треугольник\":\n",
    "    Triangle_side_1 = int(input('Введите длину стороны треугольника 1 '))\n",
    "    Triangle_side_2 = int(input('Введите длину стороны треугольника 2 '))\n",
    "    Triangle_side_3 = int(input('Введите длину стороны треугольника 3 '))\n",
    "    Coeff = (Triangle_side_1 + Triangle_side_2 + Triangle_side_3 )/2\n",
    "    Square_triangle = (Coeff * (Coeff - Triangle_side_1) * (Coeff - Triangle_side_2) * (Coeff - Triangle_side_3)) ** (1/2)\n",
    "    print(Square_triangle)\n",
    "elif shape == \"прямоугольник\":\n",
    "    Rectangle_side_1 = int(input('Введите длину стороны прямоугольника 1 '))\n",
    "    Rectangle_side_2 = int(input('Введите длину стороны прямоугольника 2 '))\n",
    "    Square_rectangle = Rectangle_side_1 * Rectangle_side_2\n",
    "    print(Square_rectangle)\n",
    "elif shape == \"круг\":\n",
    "    r = int(input('Введите радиус'))\n",
    "    Square_circle = r ** 2 * math.pi\n",
    "    print(Square_circle)"
   ]
  }
 ],
 "metadata": {
  "kernelspec": {
   "display_name": "Python 3",
   "language": "python",
   "name": "python3"
  },
  "language_info": {
   "codemirror_mode": {
    "name": "ipython",
    "version": 3
   },
   "file_extension": ".py",
   "mimetype": "text/x-python",
   "name": "python",
   "nbconvert_exporter": "python",
   "pygments_lexer": "ipython3",
   "version": "3.8.3"
  }
 },
 "nbformat": 4,
 "nbformat_minor": 4
}
