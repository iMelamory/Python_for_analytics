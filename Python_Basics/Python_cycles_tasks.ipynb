{
 "cells": [
  {
   "cell_type": "markdown",
   "metadata": {},
   "source": [
    "Python_cycles"
   ]
  },
  {
   "cell_type": "code",
   "execution_count": 13,
   "metadata": {},
   "outputs": [
    {
     "name": "stdout",
     "output_type": "stream",
     "text": [
      "two\n",
      "wo\n"
     ]
    }
   ],
   "source": [
    "#Task 1\n",
    "\n",
    "word = str(input())\n",
    "if len(word) % 2 == 0:\n",
    "    print (word[1])\n",
    "else:\n",
    "    print (word[1:3])"
   ]
  },
  {
   "cell_type": "code",
   "execution_count": 198,
   "metadata": {},
   "outputs": [
    {
     "name": "stdout",
     "output_type": "stream",
     "text": [
      "1\n",
      "2\n",
      "0\n",
      "Сумма всех чисел  3\n"
     ]
    }
   ],
   "source": [
    "#Task 2\n",
    "\n",
    "number = int(input())\n",
    "sum_ = 0 + number\n",
    "while number != 0:\n",
    "    number = int(input()) \n",
    "    sum_ += number\n",
    "if number == 0:   \n",
    "    print ('Сумма всех чисел ',sum_)\n",
    "    "
   ]
  },
  {
   "cell_type": "code",
   "execution_count": 125,
   "metadata": {},
   "outputs": [
    {
     "name": "stdout",
     "output_type": "stream",
     "text": [
      "Идеальные пары:\n",
      "Alex и Emma\n",
      "Arthur и Kate\n",
      "John и Kira\n",
      "Peter и Liza\n",
      "Richard и Trisha\n"
     ]
    }
   ],
   "source": [
    "#Task 3\n",
    "boys = ['Peter', 'Alex', 'John', 'Arthur', 'Richard']\n",
    "girls = ['Kate', 'Liza', 'Kira', 'Emma', 'Trisha']\n",
    "sort_boys = sorted(boys)\n",
    "sort_girls = sorted(girls)\n",
    "\n",
    "\n",
    "i = 0\n",
    "j = 0\n",
    "if len(boys) == len (girls):\n",
    "    match = zip(sort_boys, sort_girls)\n",
    "    matched = list(match)\n",
    "    print('Идеальные пары:')\n",
    "    while i < len(boys):\n",
    "        for pair in [matched]:\n",
    "            print(pair[i][0], 'и', pair[i][1])\n",
    "            i += 1\n",
    "            \n",
    "else:\n",
    "    print('Внимание, кто-то может остаться без пары!')\n",
    "    \n",
    "   # В таких заданиях ожидается, что нужно вводить список через функцию input? если да, то как это делается?"
   ]
  },
  {
   "cell_type": "code",
   "execution_count": 82,
   "metadata": {},
   "outputs": [
    {
     "name": "stdout",
     "output_type": "stream",
     "text": [
      "Thailand - 23.85714285714285 C\n",
      "Germany - 13.799999999999999 C\n",
      "Russia - 3.714285714285717 C\n",
      "Poland - 11.999999999999996 C\n"
     ]
    }
   ],
   "source": [
    "#Task 4\n",
    "\n",
    "countries_temperature = [\n",
    "['Thailand', [75.2, 77, 78.8, 73.4, 68, 75.2, 77]],\n",
    "['Germany', [57.2, 55.4, 59, 59, 53.6]],\n",
    "['Russia', [35.6, 37.4, 39.2, 41, 42.8, 39.2, 35.6]],\n",
    "['Poland', [50, 50, 53.6, 57.2, 55.4, 55.4]]\n",
    "]\n",
    "\n",
    "i = 0\n",
    "for avg_temp in countries_temperature:\n",
    "    avg_temp = sum(countries_temperature[i][1]) / len(countries_temperature[i][1])\n",
    "    avg_temp_c = (avg_temp - 32) * 5 / 9\n",
    "    print(countries_temperature[i][0], '-', avg_temp_c, 'C')\n",
    "    i += 1\n",
    "    \n",
    "    #Как округлять? Ожидается ли округление в заданиях?\n"
   ]
  },
  {
   "cell_type": "code",
   "execution_count": 19,
   "metadata": {},
   "outputs": [
    {
     "name": "stdout",
     "output_type": "stream",
     "text": [
      "145.33333333333334\n"
     ]
    }
   ],
   "source": [
    "#Task 5 \n",
    "stream =  [\n",
    "'2018-01-01,user100,150',\n",
    "'2018-01-07,user99,205',\n",
    "'2018-03-29,user1001,81'\n",
    "]\n",
    "summ_ = 0\n",
    "users = []\n",
    "for element in stream:\n",
    "    new = element.split(',')\n",
    "    summ_ += int(new[2])\n",
    "    if new[1] not in users:\n",
    "        users.append(new[1])\n",
    "result = summ_ / len(users)\n",
    "print(result)\n"
   ]
  },
  {
   "cell_type": "code",
   "execution_count": 70,
   "metadata": {},
   "outputs": [
    {
     "name": "stdout",
     "output_type": "stream",
     "text": [
      "1 1 1 1 1 2 2 2\n",
      "['1', '2']\n"
     ]
    }
   ],
   "source": [
    "#Task 6\n",
    "\n",
    "number_list = str(input())\n",
    "sep = number_list.split(' ')\n",
    "unique = []\n",
    "repeat =[]\n",
    "result = []\n",
    "\n",
    "for item in sep:\n",
    "    if item not in unique:\n",
    "        unique.append(item)\n",
    "        for element in item:\n",
    "            count = sep.count(element)\n",
    "            repeat.append(count)\n",
    "            if count > 1:\n",
    "                result.append(item)\n",
    "print(sorted(result))\n",
    "                \n",
    "#4 8 0 3 4 2 0 3"
   ]
  }
 ],
 "metadata": {
  "kernelspec": {
   "display_name": "Python 3",
   "language": "python",
   "name": "python3"
  },
  "language_info": {
   "codemirror_mode": {
    "name": "ipython",
    "version": 3
   },
   "file_extension": ".py",
   "mimetype": "text/x-python",
   "name": "python",
   "nbconvert_exporter": "python",
   "pygments_lexer": "ipython3",
   "version": "3.8.3"
  }
 },
 "nbformat": 4,
 "nbformat_minor": 4
}
