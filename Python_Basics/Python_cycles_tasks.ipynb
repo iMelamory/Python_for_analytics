{
 "cells": [
  {
   "cell_type": "markdown",
   "metadata": {},
   "source": [
    "Python_cycles"
   ]
  },
  {
   "cell_type": "code",
   "execution_count": 13,
   "metadata": {},
   "outputs": [
    {
     "name": "stdout",
     "output_type": "stream",
     "text": [
      "two\n",
      "wo\n"
     ]
    }
   ],
   "source": [
    "#Task 1\n",
    "\n",
    "word = str(input())\n",
    "if len(word) % 2 == 0:\n",
    "    print (word[1])\n",
    "else:\n",
    "    print (word[1:3])"
   ]
  },
  {
   "cell_type": "code",
   "execution_count": 198,
   "metadata": {},
   "outputs": [
    {
     "name": "stdout",
     "output_type": "stream",
     "text": [
      "1\n",
      "2\n",
      "0\n",
      "Сумма всех чисел  3\n"
     ]
    }
   ],
   "source": [
    "#Task 2\n",
    "\n",
    "number = int(input())\n",
    "sum_ = 0 + number\n",
    "while number != 0:\n",
    "    number = int(input()) \n",
    "    sum_ += number\n",
    "if number == 0:   \n",
    "    print ('Сумма всех чисел ',sum_)\n",
    "    "
   ]
  },
  {
   "cell_type": "code",
   "execution_count": 125,
   "metadata": {},
   "outputs": [
    {
     "name": "stdout",
     "output_type": "stream",
     "text": [
      "Идеальные пары:\n",
      "Alex и Emma\n",
      "Arthur и Kate\n",
      "John и Kira\n",
      "Peter и Liza\n",
      "Richard и Trisha\n"
     ]
    }
   ],
   "source": [
    "#Task 3\n",
    "boys = ['Peter', 'Alex', 'John', 'Arthur', 'Richard']\n",
    "girls = ['Kate', 'Liza', 'Kira', 'Emma', 'Trisha']\n",
    "sort_boys = sorted(boys)\n",
    "sort_girls = sorted(girls)\n",
    "\n",
    "\n",
    "i = 0\n",
    "j = 0\n",
    "if len(boys) == len (girls):\n",
    "    match = zip(sort_boys, sort_girls)\n",
    "    matched = list(match)\n",
    "    print('Идеальные пары:')\n",
    "    while i < len(boys):\n",
    "        for pair in [matched]:\n",
    "            print(pair[i][0], 'и', pair[i][1])\n",
    "            i += 1\n",
    "            \n",
    "else:\n",
    "    print('Внимание, кто-то может остаться без пары!')\n",
    "    \n",
    "   # В таких заданиях ожидается, что нужно вводить список через функцию input? если да, то как это делается?"
   ]
  },
  {
   "cell_type": "code",
   "execution_count": 82,
   "metadata": {},
   "outputs": [
    {
     "name": "stdout",
     "output_type": "stream",
     "text": [
      "Thailand - 23.85714285714285 C\n",
      "Germany - 13.799999999999999 C\n",
      "Russia - 3.714285714285717 C\n",
      "Poland - 11.999999999999996 C\n"
     ]
    }
   ],
   "source": [
    "#Task 4\n",
    "\n",
    "countries_temperature = [\n",
    "['Thailand', [75.2, 77, 78.8, 73.4, 68, 75.2, 77]],\n",
    "['Germany', [57.2, 55.4, 59, 59, 53.6]],\n",
    "['Russia', [35.6, 37.4, 39.2, 41, 42.8, 39.2, 35.6]],\n",
    "['Poland', [50, 50, 53.6, 57.2, 55.4, 55.4]]\n",
    "]\n",
    "\n",
    "i = 0\n",
    "for avg_temp in countries_temperature:\n",
    "    avg_temp = sum(countries_temperature[i][1]) / len(countries_temperature[i][1])\n",
    "    avg_temp_c = (avg_temp - 32) * 5 / 9\n",
    "    print(countries_temperature[i][0], '-', avg_temp_c, 'C')\n",
    "    i += 1\n",
    "    \n",
    "    #Как округлять? Ожидается ли округление в заданиях?\n"
   ]
  },
  {
   "cell_type": "code",
   "execution_count": 149,
   "metadata": {},
   "outputs": [
    {
     "name": "stdout",
     "output_type": "stream",
     "text": [
      "93\n"
     ]
    }
   ],
   "source": [
    "#Task 5 часть 1\n",
    "\n",
    "stream = [\n",
    "    '2018-01-01,user1,3',\n",
    "    '2018-01-07,user1,4',\n",
    "    '2018-03-29,user1,1',\n",
    "    '2018-04-04,user1,13',\n",
    "    '2018-01-05,user2,7',\n",
    "    '2018-06-14,user3,4',\n",
    "    '2018-07-02,user3,10',\n",
    "    '2018-03-21,user4,19',\n",
    "    '2018-03-22,user4,4',\n",
    "    '2018-04-22,user4,8',\n",
    "    '2018-05-03,user4,9',\n",
    "    '2018-05-11,user4,11',\n",
    "]\n",
    "i = 0\n",
    "sum_views = 0\n",
    "while i < len(stream):\n",
    "    splitted = stream[i].split(',')\n",
    "    views = splitted[2]\n",
    "    sum_views += int(views)\n",
    "    i += 1\n",
    "print(sum_views)"
   ]
  },
  {
   "cell_type": "code",
   "execution_count": 240,
   "metadata": {},
   "outputs": [
    {
     "name": "stdout",
     "output_type": "stream",
     "text": [
      "['user1', 'user1', 'user2', 'user3', 'user4', 'user4']\n"
     ]
    }
   ],
   "source": [
    "#Task 5 часть 2\n",
    "stream = [\n",
    "    '2018-01-01,user1,3',\n",
    "    '2018-01-07,user1,4',\n",
    "    '2018-03-29,user1,1',\n",
    "    '2018-04-04,user1,13',\n",
    "    '2018-01-05,user2,7',\n",
    "    '2018-06-14,user3,4',\n",
    "    '2018-07-02,user3,10',\n",
    "    '2018-03-21,user4,19',\n",
    "    '2018-03-22,user4,4',\n",
    "    '2018-04-22,user4,8',\n",
    "    '2018-05-03,user4,9',\n",
    "    '2018-05-11,user4,11',\n",
    "]\n",
    "\n",
    "i = 0\n",
    "sum_user = ''\n",
    "new = ''\n",
    "while i < len(stream):\n",
    "    splitted = stream[i].split(',')\n",
    "    user = splitted[1]\n",
    "    sum_user += ', ' + user\n",
    "    i += 1\n",
    "    new = sum_user.split(', ')\n",
    "    new_1 = copy.copy(new)\n",
    "for unique in new_1:\n",
    "    if unique in new_1:\n",
    "        new_1.remove(unique)\n",
    "print(new_1)\n",
    "\n",
    "#Почему удаляются не все дубликаты?"
   ]
  },
  {
   "cell_type": "code",
   "execution_count": 246,
   "metadata": {},
   "outputs": [
    {
     "name": "stdout",
     "output_type": "stream",
     "text": [
      "1 0 2 4 0 5\n"
     ]
    },
    {
     "data": {
      "text/plain": [
       "['1', '0', '2', '4', '0', '5']"
      ]
     },
     "execution_count": 246,
     "metadata": {},
     "output_type": "execute_result"
    }
   ],
   "source": [
    "#Task 6\n",
    "\n",
    "number_list = str(input())\n",
    "sep = number_list.split(' ')\n",
    "sep.count\n"
   ]
  }
 ],
 "metadata": {
  "kernelspec": {
   "display_name": "Python 3",
   "language": "python",
   "name": "python3"
  },
  "language_info": {
   "codemirror_mode": {
    "name": "ipython",
    "version": 3
   },
   "file_extension": ".py",
   "mimetype": "text/x-python",
   "name": "python",
   "nbconvert_exporter": "python",
   "pygments_lexer": "ipython3",
   "version": "3.8.3"
  }
 },
 "nbformat": 4,
 "nbformat_minor": 4
}
