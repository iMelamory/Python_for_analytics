{
 "cells": [
  {
   "cell_type": "code",
   "execution_count": 52,
   "metadata": {},
   "outputs": [
    {
     "name": "stdout",
     "output_type": "stream",
     "text": [
      "Результат: Номер A222BC валиден. Регион: 96\n"
     ]
    }
   ],
   "source": [
    "#Task 1\n",
    "car_id = 'A222BC96'\n",
    "region = re.findall(r'\\d{2}$', car_id)\n",
    "number = ''.join(map(str, re.findall(r'[A-Z]{1}\\d{3}[A-Z]{2}', car_id)))\n",
    "if re.findall(r'[A-Z]{1}\\d{3}[A-Z]{2}\\d{2}', car_id):\n",
    "     print(f'Результат: Номер {number} валиден. Регион: {region[0]}')\n",
    "else:\n",
    "    print('Номер не валиден')\n",
    "    \n"
   ]
  },
  {
   "cell_type": "code",
   "execution_count": 45,
   "metadata": {},
   "outputs": [],
   "source": [
    "#Task 2\n",
    "some_string = 'Напишите функцию функцию, которая будет будет будет будет удалять все все все все последовательные повторы слов из из из из заданной строки строки при помощи регулярных выражений.'"
   ]
  },
  {
   "cell_type": "code",
   "execution_count": 78,
   "metadata": {},
   "outputs": [
    {
     "data": {
      "text/plain": [
       "'Напишите функцию, которая будет удалять все последовательные повторы слов из заданной строки при помощи регулярных выражений.'"
      ]
     },
     "execution_count": 78,
     "metadata": {},
     "output_type": "execute_result"
    }
   ],
   "source": [
    "#Task 2 \n",
    "re.sub(r'\\b([^\\W\\d_]+)(\\s+\\1)+\\b', r'\\1', some_string, flags =re.I)"
   ]
  },
  {
   "cell_type": "code",
   "execution_count": 2,
   "metadata": {},
   "outputs": [],
   "source": [
    "import re"
   ]
  },
  {
   "cell_type": "code",
   "execution_count": 151,
   "metadata": {},
   "outputs": [
    {
     "data": {
      "text/plain": [
       "'ИТ'"
      ]
     },
     "execution_count": 151,
     "metadata": {},
     "output_type": "execute_result"
    }
   ],
   "source": [
    "#Task 3\n",
    "some_words = 'Информационные технологии'\n",
    "acr = re.findall(r'\\b\\w',some_words)\n",
    "\n",
    "result = (''.join(acr))\n",
    "result.upper()"
   ]
  },
  {
   "cell_type": "code",
   "execution_count": 173,
   "metadata": {},
   "outputs": [
    {
     "name": "stdout",
     "output_type": "stream",
     "text": [
      "@ya.ru:2\n",
      "@mail.ru:1\n",
      "@test.in:1\n",
      "@gmail.com:2\n"
     ]
    }
   ],
   "source": [
    "#Task 4\n",
    "emails = ['test@gmail.com, xyz@test.in, test@ya.ru, xyz@mail.ru, xyz@ya.ru, xyz@gmail.com']\n",
    "for email in emails:\n",
    "    domain = re.findall(r'@\\w+.\\w+', email)\n",
    "domain_list = set(domain)\n",
    "\n",
    "for element in domain_list:\n",
    "    print(f'{element}:{domain.count(element)}')\n",
    "    \n",
    "    "
   ]
  },
  {
   "cell_type": "code",
   "execution_count": 175,
   "metadata": {},
   "outputs": [],
   "source": [
    "#Task 5\n",
    "\n",
    "some_text = 'Эталонной реализацией Python является интерпретатор CPython, поддерживающий большинство активно используемых платформ. Он распространяется под свободной лицензией Python Software Foundation License, позволяющей использовать его без ограничений в любых приложениях, включая проприетарные.'"
   ]
  },
  {
   "cell_type": "code",
   "execution_count": 194,
   "metadata": {},
   "outputs": [
    {
     "name": "stdout",
     "output_type": "stream",
     "text": [
      "Слов на гласные буквы: 9\n",
      "Слов на согласные буквы: 21\n"
     ]
    }
   ],
   "source": [
    "low_text = some_text.lower()\n",
    "letters = re.findall(r'\\b\\w',low_text, flags = re.I)\n",
    "vowel_rus = 'а, у, о, ы, и, э, я, ю, ё, е'\n",
    "vowel_eng = 'A, E, I, O, U'\n",
    "vowel_rus_found = []\n",
    "for letter in letters:\n",
    "    if letter in vowel_rus and vowel_eng:\n",
    "        vowel_rus_found.append(letter)\n",
    "count_vowel = len(vowel_rus_found)\n",
    "count_other = len(letters) - len(vowel_rus_found)\n",
    "print(f'Слов на гласные буквы: {count_vowel}')\n",
    "print(f'Слов на согласные буквы: {count_other}')"
   ]
  },
  {
   "cell_type": "code",
   "execution_count": 259,
   "metadata": {},
   "outputs": [
    {
     "name": "stdout",
     "output_type": "stream",
     "text": [
      "+7-123-555-55-55\n"
     ]
    }
   ],
   "source": [
    "#Task 6\n",
    "phone = '7 123-555-55-55'\n",
    "empty = []\n",
    "numbers = re.findall(r'([/+|\\d{1}])[\\s|-|\\S]{1,2}(\\d{3})[\\s|-|/\\S]{1,2}(\\d{3})[\\s|-]{1}(\\d{2})[\\s|-]{1}(\\d{2})', phone)\n",
    "if numbers == empty:\n",
    "    print(f'Номер не валиден')\n",
    "else:\n",
    "    for number in numbers:\n",
    "        number_list = list(number)\n",
    "    print(f'+7-{number_list[1]}-{number_list[2]}-{number_list[3]}-{number_list[4]}')\n"
   ]
  }
 ],
 "metadata": {
  "kernelspec": {
   "display_name": "Python 3",
   "language": "python",
   "name": "python3"
  },
  "language_info": {
   "codemirror_mode": {
    "name": "ipython",
    "version": 3
   },
   "file_extension": ".py",
   "mimetype": "text/x-python",
   "name": "python",
   "nbconvert_exporter": "python",
   "pygments_lexer": "ipython3",
   "version": "3.8.3"
  }
 },
 "nbformat": 4,
 "nbformat_minor": 4
}
