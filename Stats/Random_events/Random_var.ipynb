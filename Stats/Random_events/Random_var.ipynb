{
 "cells": [
  {
   "cell_type": "markdown",
   "metadata": {},
   "source": [
    "777: 200 руб.\n",
    "999: 100 руб.\n",
    "555: 50 руб.\n",
    "333: 15 руб.\n",
    "111: 10 руб.\n",
    "*77: 5 руб.\n",
    "**7: 3 руб.\n",
    "*00: 2 руб.\n",
    "**0: 1 руб."
   ]
  },
  {
   "cell_type": "code",
   "execution_count": 1,
   "metadata": {},
   "outputs": [],
   "source": [
    "import numpy as np"
   ]
  },
  {
   "cell_type": "code",
   "execution_count": 26,
   "metadata": {},
   "outputs": [
    {
     "name": "stdout",
     "output_type": "stream",
     "text": [
      "попыток 100000 \n",
      "успешных 20252 \n",
      "всего денег -16671 \n",
      "выигрыш\\проигрыш на попытку -0.16671 \n",
      "вероятность Монте-Карло 0.20252 \n",
      "мат ожидание -0.15500000000000003\n"
     ]
    }
   ],
   "source": [
    "trials = 100000\n",
    "success = 0\n",
    "budget = 0\n",
    "\n",
    "for i in range(trials):\n",
    "    number = np.random.randint(0, 1000)\n",
    "    budget -= 1 \n",
    "    if number == 111:\n",
    "        success += 1\n",
    "        budget += 10\n",
    "    elif number == 333: \n",
    "        success += 1\n",
    "        budget += 15\n",
    "    elif number == 555:\n",
    "        success += 1\n",
    "        budget += 50\n",
    "    elif number == 999:\n",
    "        success += 1\n",
    "        budget += 100\n",
    "    elif number == 777:\n",
    "        success += 1\n",
    "        budget += 200\n",
    "\n",
    "    elif number % 100 == 0:\n",
    "        success += 1\n",
    "        budget += 2\n",
    "    elif number % 10 == 0 :\n",
    "        success += 1\n",
    "        budget += 1\n",
    "    elif number % 100 == 77:\n",
    "        success += 1\n",
    "        budget += 5\n",
    "    elif number % 10 == 7:\n",
    "        success += 1\n",
    "        budget += 3\n",
    "\n",
    "    \n",
    "p_monte_carlo = success / trials  \n",
    "\n",
    "m_expect = 100/1000 * 1 + 10/1000 * 2 + 100/1000 * 3 + 10/1000 * 5 + 1/1000 * 10 + 1/1000 * 15 + 1/1000 * 50 + 1/1000 * 100 + 1/1000 * 200 - 1\n",
    "print(f'попыток {trials} \\nуспешных {success} \\nвсего денег {budget} \\nвыигрыш\\проигрыш на попытку {budget/trials} \\nвероятность Монте-Карло {p_monte_carlo} \\nмат ожидание {m_expect}')       "
   ]
  },
  {
   "cell_type": "markdown",
   "metadata": {},
   "source": [
    "## Игра невыгодна игроку, так как в среднем игрок всегда теряет 16 копеек, а вероятность выигрыша составляет 20%."
   ]
  },
  {
   "cell_type": "code",
   "execution_count": 88,
   "metadata": {},
   "outputs": [
    {
     "name": "stdout",
     "output_type": "stream",
     "text": [
      "10\n"
     ]
    }
   ],
   "source": [
    "total = []\n",
    "for i in range(1000):\n",
    "    if int(i) % 100 == 0:\n",
    "        total.append(i)\n",
    "print(len(total))"
   ]
  }
 ],
 "metadata": {
  "kernelspec": {
   "display_name": "Python 3",
   "language": "python",
   "name": "python3"
  },
  "language_info": {
   "codemirror_mode": {
    "name": "ipython",
    "version": 3
   },
   "file_extension": ".py",
   "mimetype": "text/x-python",
   "name": "python",
   "nbconvert_exporter": "python",
   "pygments_lexer": "ipython3",
   "version": "3.8.3"
  }
 },
 "nbformat": 4,
 "nbformat_minor": 4
}
